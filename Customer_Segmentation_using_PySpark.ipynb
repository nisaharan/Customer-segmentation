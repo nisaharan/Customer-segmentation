{
  "nbformat": 4,
  "nbformat_minor": 0,
  "metadata": {
    "colab": {
      "provenance": []
    },
    "kernelspec": {
      "name": "python3",
      "display_name": "Python 3"
    },
    "language_info": {
      "name": "python"
    }
  },
  "cells": [
    {
      "cell_type": "code",
      "execution_count": null,
      "metadata": {
        "colab": {
          "base_uri": "https://localhost:8080/"
        },
        "id": "7Ljq3v7u336g",
        "outputId": "22ff6d6e-e209-4cad-e3f7-a73f3b49c529"
      },
      "outputs": [
        {
          "output_type": "stream",
          "name": "stdout",
          "text": [
            "Looking in indexes: https://pypi.org/simple, https://us-python.pkg.dev/colab-wheels/public/simple/\n",
            "Collecting pyspark\n",
            "  Downloading pyspark-3.4.0.tar.gz (310.8 MB)\n",
            "\u001b[2K     \u001b[90m━━━━━━━━━━━━━━━━━━━━━━━━━━━━━━━━━━━━━━━\u001b[0m \u001b[32m310.8/310.8 MB\u001b[0m \u001b[31m3.7 MB/s\u001b[0m eta \u001b[36m0:00:00\u001b[0m\n",
            "\u001b[?25h  Preparing metadata (setup.py) ... \u001b[?25l\u001b[?25hdone\n",
            "Requirement already satisfied: py4j==0.10.9.7 in /usr/local/lib/python3.10/dist-packages (from pyspark) (0.10.9.7)\n",
            "Building wheels for collected packages: pyspark\n",
            "  Building wheel for pyspark (setup.py) ... \u001b[?25l\u001b[?25hdone\n",
            "  Created wheel for pyspark: filename=pyspark-3.4.0-py2.py3-none-any.whl size=311317130 sha256=60100faa8ebe81f5f09d6a2384ff40bfc25b352313f1f4ad68806a12df40c746\n",
            "  Stored in directory: /root/.cache/pip/wheels/7b/1b/4b/3363a1d04368e7ff0d408e57ff57966fcdf00583774e761327\n",
            "Successfully built pyspark\n",
            "Installing collected packages: pyspark\n",
            "Successfully installed pyspark-3.4.0\n"
          ]
        }
      ],
      "source": [
        "!pip install pyspark"
      ]
    },
    {
      "cell_type": "code",
      "source": [
        "from pyspark.sql import SparkSession"
      ],
      "metadata": {
        "id": "ogA_j7PU78A8"
      },
      "execution_count": null,
      "outputs": []
    },
    {
      "cell_type": "code",
      "source": [
        "import pandas as pd"
      ],
      "metadata": {
        "id": "Ef4QFiYY8tHA"
      },
      "execution_count": null,
      "outputs": []
    },
    {
      "cell_type": "markdown",
      "source": [
        "## Step 1: Creating a SparkSession"
      ],
      "metadata": {
        "id": "xsrJp5KHX70X"
      }
    },
    {
      "cell_type": "code",
      "source": [
        "spark = SparkSession.builder.appName(\"Customer segmentation\").config(\"spark.memory.offHeap.enabled\",\"true\").config(\"spark.memory.offHeap.size\",\"10g\").getOrCreate()"
      ],
      "metadata": {
        "id": "WgnHiyvq4brU"
      },
      "execution_count": null,
      "outputs": []
    },
    {
      "cell_type": "markdown",
      "source": [
        "## Step 2: Creating the DataFrame"
      ],
      "metadata": {
        "id": "g9CddKtPX_RG"
      }
    },
    {
      "cell_type": "code",
      "source": [
        "# Read the Excel file using pandas\n",
        "excel_data = pd.read_excel('Online Retail.xlsx')\n",
        "\n",
        "# Convert pandas DataFrame to Spark DataFrame\n",
        "spark_df = spark.createDataFrame(excel_data)"
      ],
      "metadata": {
        "id": "oGGhRbxP8Ayq"
      },
      "execution_count": null,
      "outputs": []
    },
    {
      "cell_type": "markdown",
      "source": [
        "## Step 3:Exploratory Data Analysis"
      ],
      "metadata": {
        "id": "MNn7vaUsX22n"
      }
    },
    {
      "cell_type": "code",
      "source": [
        "spark_df.show(5,0)"
      ],
      "metadata": {
        "colab": {
          "base_uri": "https://localhost:8080/"
        },
        "id": "aazfoBMIAJmX",
        "outputId": "2fd2ec8f-e110-4572-fea8-37cb7fbb2248"
      },
      "execution_count": null,
      "outputs": [
        {
          "output_type": "stream",
          "name": "stdout",
          "text": [
            "+---------+---------+-----------------------------------+--------+-------------------+---------+----------+--------------+\n",
            "|InvoiceNo|StockCode|Description                        |Quantity|InvoiceDate        |UnitPrice|CustomerID|Country       |\n",
            "+---------+---------+-----------------------------------+--------+-------------------+---------+----------+--------------+\n",
            "|536365   |85123A   |WHITE HANGING HEART T-LIGHT HOLDER |6       |2010-12-01 08:26:00|2.55     |17850.0   |United Kingdom|\n",
            "|536365   |71053    |WHITE METAL LANTERN                |6       |2010-12-01 08:26:00|3.39     |17850.0   |United Kingdom|\n",
            "|536365   |84406B   |CREAM CUPID HEARTS COAT HANGER     |8       |2010-12-01 08:26:00|2.75     |17850.0   |United Kingdom|\n",
            "|536365   |84029G   |KNITTED UNION FLAG HOT WATER BOTTLE|6       |2010-12-01 08:26:00|3.39     |17850.0   |United Kingdom|\n",
            "|536365   |84029E   |RED WOOLLY HOTTIE WHITE HEART.     |6       |2010-12-01 08:26:00|3.39     |17850.0   |United Kingdom|\n",
            "+---------+---------+-----------------------------------+--------+-------------------+---------+----------+--------------+\n",
            "only showing top 5 rows\n",
            "\n"
          ]
        }
      ]
    },
    {
      "cell_type": "code",
      "source": [
        "spark_df.count()"
      ],
      "metadata": {
        "colab": {
          "base_uri": "https://localhost:8080/"
        },
        "id": "7mLB41jPARau",
        "outputId": "52ef77da-4606-42b9-b138-388299c2087d"
      },
      "execution_count": null,
      "outputs": [
        {
          "output_type": "execute_result",
          "data": {
            "text/plain": [
              "541909"
            ]
          },
          "metadata": {},
          "execution_count": 12
        }
      ]
    },
    {
      "cell_type": "code",
      "source": [
        "spark_df.select('CustomerID').distinct().count()"
      ],
      "metadata": {
        "colab": {
          "base_uri": "https://localhost:8080/"
        },
        "id": "kwX24TUtAdo_",
        "outputId": "9366adbb-06c9-498f-a83b-25f1e8661516"
      },
      "execution_count": null,
      "outputs": [
        {
          "output_type": "execute_result",
          "data": {
            "text/plain": [
              "4373"
            ]
          },
          "metadata": {},
          "execution_count": 13
        }
      ]
    },
    {
      "cell_type": "code",
      "source": [
        "from pyspark.sql.functions import *\n",
        "from pyspark.sql.types import *\n",
        "spark_df.groupBy('Country').agg(countDistinct('CustomerID').alias('country_count')).show()"
      ],
      "metadata": {
        "colab": {
          "base_uri": "https://localhost:8080/"
        },
        "id": "DKoauUoLVeXL",
        "outputId": "0fead66e-be26-4958-b410-04941866acdd"
      },
      "execution_count": null,
      "outputs": [
        {
          "output_type": "stream",
          "name": "stdout",
          "text": [
            "+------------------+-------------+\n",
            "|           Country|country_count|\n",
            "+------------------+-------------+\n",
            "|            Sweden|            8|\n",
            "|         Singapore|            1|\n",
            "|           Germany|           95|\n",
            "|               RSA|            1|\n",
            "|            France|           88|\n",
            "|            Greece|            4|\n",
            "|European Community|            1|\n",
            "|           Belgium|           25|\n",
            "|           Finland|           12|\n",
            "|             Malta|            2|\n",
            "|       Unspecified|            5|\n",
            "|             Italy|           15|\n",
            "|              EIRE|            4|\n",
            "|         Lithuania|            1|\n",
            "|            Norway|           10|\n",
            "|             Spain|           31|\n",
            "|           Denmark|            9|\n",
            "|         Hong Kong|            1|\n",
            "|           Iceland|            1|\n",
            "|            Israel|            5|\n",
            "+------------------+-------------+\n",
            "only showing top 20 rows\n",
            "\n"
          ]
        }
      ]
    },
    {
      "cell_type": "code",
      "source": [
        "#country from which most purchases are made\n",
        "spark_df.groupBy('Country').agg(countDistinct('CustomerID').alias('country_count')).orderBy(desc('country_count')).show()"
      ],
      "metadata": {
        "colab": {
          "base_uri": "https://localhost:8080/"
        },
        "id": "0OcD5HsaVqpL",
        "outputId": "b67dae15-bfc3-47bb-cb3d-1d1820e382f7"
      },
      "execution_count": null,
      "outputs": [
        {
          "output_type": "stream",
          "name": "stdout",
          "text": [
            "+---------------+-------------+\n",
            "|        Country|country_count|\n",
            "+---------------+-------------+\n",
            "| United Kingdom|         3951|\n",
            "|        Germany|           95|\n",
            "|         France|           88|\n",
            "|          Spain|           31|\n",
            "|        Belgium|           25|\n",
            "|    Switzerland|           22|\n",
            "|       Portugal|           20|\n",
            "|          Italy|           15|\n",
            "|        Finland|           12|\n",
            "|        Austria|           11|\n",
            "|         Norway|           10|\n",
            "|        Denmark|            9|\n",
            "|Channel Islands|            9|\n",
            "|      Australia|            9|\n",
            "|    Netherlands|            9|\n",
            "|         Sweden|            8|\n",
            "|         Cyprus|            8|\n",
            "|          Japan|            8|\n",
            "|         Poland|            6|\n",
            "|    Unspecified|            5|\n",
            "+---------------+-------------+\n",
            "only showing top 20 rows\n",
            "\n"
          ]
        }
      ]
    },
    {
      "cell_type": "code",
      "source": [
        "# latest purchase made on the platform\n",
        "spark.sql(\"set spark.sql.legacy.timeParserPolicy=LEGACY\")\n",
        "spark_df = spark_df.withColumn('date',to_timestamp(\"InvoiceDate\", 'yy/MM/dd HH:mm'))\n",
        "spark_df.select(max(\"date\")).show()"
      ],
      "metadata": {
        "colab": {
          "base_uri": "https://localhost:8080/"
        },
        "id": "dbf1TTt4Vu2J",
        "outputId": "b3fd043e-5cf3-4e09-d1c1-1ede786d2689"
      },
      "execution_count": null,
      "outputs": [
        {
          "output_type": "stream",
          "name": "stdout",
          "text": [
            "+-------------------+\n",
            "|          max(date)|\n",
            "+-------------------+\n",
            "|2011-12-09 12:50:00|\n",
            "+-------------------+\n",
            "\n"
          ]
        }
      ]
    },
    {
      "cell_type": "code",
      "source": [
        "#earliest purchase made by a customer on the e-commerce platform\n",
        "spark_df.select(min(\"date\")).show()"
      ],
      "metadata": {
        "colab": {
          "base_uri": "https://localhost:8080/"
        },
        "id": "Pf9IQX2pXQ1L",
        "outputId": "74b802ef-ee48-4477-f348-904b95888ece"
      },
      "execution_count": null,
      "outputs": [
        {
          "output_type": "stream",
          "name": "stdout",
          "text": [
            "+-------------------+\n",
            "|          min(date)|\n",
            "+-------------------+\n",
            "|2010-12-01 08:26:00|\n",
            "+-------------------+\n",
            "\n"
          ]
        }
      ]
    },
    {
      "cell_type": "markdown",
      "source": [
        "## Step 4: Data Pre-processing"
      ],
      "metadata": {
        "id": "oNS_V-DqYJgd"
      }
    },
    {
      "cell_type": "code",
      "source": [
        "#Assigning a recency score to each customer\n",
        "spark_df = spark_df.withColumn(\"from_date\", lit(\"12/1/10 08:26\"))\n",
        "spark_df = spark_df.withColumn('from_date',to_timestamp(\"from_date\", 'yy/MM/dd HH:mm'))\n",
        "\n",
        "df2=spark_df.withColumn('from_date',to_timestamp(col('from_date'))).withColumn('recency',col(\"date\").cast(\"long\") - col('from_date').cast(\"long\"))"
      ],
      "metadata": {
        "id": "yHBI8SL2XyN_"
      },
      "execution_count": null,
      "outputs": []
    },
    {
      "cell_type": "code",
      "source": [
        "#Selecting the most recent purchase\n",
        "df2 = df2.join(df2.groupBy('CustomerID').agg(max('recency').alias('recency')),on='recency',how='leftsemi')\n",
        "df2.show(5,0)"
      ],
      "metadata": {
        "colab": {
          "base_uri": "https://localhost:8080/"
        },
        "id": "E47AQuccZaeo",
        "outputId": "f9136b01-a61b-4d38-8c52-963dfa5e1fb6"
      },
      "execution_count": null,
      "outputs": [
        {
          "output_type": "stream",
          "name": "stdout",
          "text": [
            "+---------+---------+---------+------------------------+--------+-------------------+---------+----------+--------------+-------------------+-------------------+\n",
            "|recency  |InvoiceNo|StockCode|Description             |Quantity|InvoiceDate        |UnitPrice|CustomerID|Country       |date               |from_date          |\n",
            "+---------+---------+---------+------------------------+--------+-------------------+---------+----------+--------------+-------------------+-------------------+\n",
            "|-27704940|544815   |22421    |LIPSTICK PEN FUSCHIA    |12      |2011-02-23 16:37:00|0.42     |17171.0   |United Kingdom|2011-02-23 16:37:00|2012-01-10 08:26:00|\n",
            "|-27704940|544815   |22419    |LIPSTICK PEN RED        |12      |2011-02-23 16:37:00|0.42     |17171.0   |United Kingdom|2011-02-23 16:37:00|2012-01-10 08:26:00|\n",
            "|-27704940|544815   |22420    |LIPSTICK PEN BABY PINK  |12      |2011-02-23 16:37:00|0.42     |17171.0   |United Kingdom|2011-02-23 16:37:00|2012-01-10 08:26:00|\n",
            "|-27704940|544815   |22077    |6 RIBBONS RUSTIC CHARM  |12      |2011-02-23 16:37:00|1.65     |17171.0   |United Kingdom|2011-02-23 16:37:00|2012-01-10 08:26:00|\n",
            "|-27704940|544815   |22087    |PAPER BUNTING WHITE LACE|6       |2011-02-23 16:37:00|2.95     |17171.0   |United Kingdom|2011-02-23 16:37:00|2012-01-10 08:26:00|\n",
            "+---------+---------+---------+------------------------+--------+-------------------+---------+----------+--------------+-------------------+-------------------+\n",
            "only showing top 5 rows\n",
            "\n"
          ]
        }
      ]
    },
    {
      "cell_type": "code",
      "source": [
        "df2.printSchema()"
      ],
      "metadata": {
        "colab": {
          "base_uri": "https://localhost:8080/"
        },
        "id": "MZrVkCXLZkxn",
        "outputId": "4e45619f-f10c-4569-f6e3-cb3db602db35"
      },
      "execution_count": null,
      "outputs": [
        {
          "output_type": "stream",
          "name": "stdout",
          "text": [
            "root\n",
            " |-- recency: long (nullable = true)\n",
            " |-- InvoiceNo: string (nullable = true)\n",
            " |-- StockCode: string (nullable = true)\n",
            " |-- Description: string (nullable = true)\n",
            " |-- Quantity: long (nullable = true)\n",
            " |-- InvoiceDate: timestamp (nullable = true)\n",
            " |-- UnitPrice: double (nullable = true)\n",
            " |-- CustomerID: double (nullable = true)\n",
            " |-- Country: string (nullable = true)\n",
            " |-- date: timestamp (nullable = true)\n",
            " |-- from_date: timestamp (nullable = true)\n",
            "\n"
          ]
        }
      ]
    },
    {
      "cell_type": "code",
      "source": [
        "df_freq = df2.groupBy('CustomerID').agg(count('InvoiceDate').alias('frequency'))"
      ],
      "metadata": {
        "id": "q2rx-woDZoMX"
      },
      "execution_count": null,
      "outputs": []
    },
    {
      "cell_type": "code",
      "source": [
        "# frequency - how often a customer bought something on the platform\n",
        "df_freq.show(5,0)"
      ],
      "metadata": {
        "colab": {
          "base_uri": "https://localhost:8080/"
        },
        "id": "MVSQ8xlOZqmG",
        "outputId": "f6ed4c29-ea90-4479-ec61-dbc4df00f89a"
      },
      "execution_count": null,
      "outputs": [
        {
          "output_type": "stream",
          "name": "stdout",
          "text": [
            "+----------+---------+\n",
            "|CustomerID|frequency|\n",
            "+----------+---------+\n",
            "|12493.0   |11       |\n",
            "|18114.0   |28       |\n",
            "|13533.0   |33       |\n",
            "|13973.0   |11       |\n",
            "|13956.0   |21       |\n",
            "+----------+---------+\n",
            "only showing top 5 rows\n",
            "\n"
          ]
        }
      ]
    },
    {
      "cell_type": "code",
      "source": [
        "df3 = df2.join(df_freq,on='CustomerID',how='inner')"
      ],
      "metadata": {
        "id": "3DwBhpIzZzBN"
      },
      "execution_count": null,
      "outputs": []
    },
    {
      "cell_type": "code",
      "source": [
        "#Printing schema\n",
        "df3.printSchema()"
      ],
      "metadata": {
        "colab": {
          "base_uri": "https://localhost:8080/"
        },
        "id": "lU7X8L9tZ43v",
        "outputId": "ecea488d-0ccb-41db-d7bf-164c3406d969"
      },
      "execution_count": null,
      "outputs": [
        {
          "output_type": "stream",
          "name": "stdout",
          "text": [
            "root\n",
            " |-- CustomerID: double (nullable = true)\n",
            " |-- recency: long (nullable = true)\n",
            " |-- InvoiceNo: string (nullable = true)\n",
            " |-- StockCode: string (nullable = true)\n",
            " |-- Description: string (nullable = true)\n",
            " |-- Quantity: long (nullable = true)\n",
            " |-- InvoiceDate: timestamp (nullable = true)\n",
            " |-- UnitPrice: double (nullable = true)\n",
            " |-- Country: string (nullable = true)\n",
            " |-- date: timestamp (nullable = true)\n",
            " |-- from_date: timestamp (nullable = true)\n",
            " |-- frequency: long (nullable = false)\n",
            "\n"
          ]
        }
      ]
    },
    {
      "cell_type": "code",
      "source": [
        "#total amount spent in each purchase\n",
        "m_val = df3.withColumn('TotalAmount',col(\"Quantity\") * col(\"UnitPrice\"))"
      ],
      "metadata": {
        "id": "mkFbEgnSZ-Z_"
      },
      "execution_count": null,
      "outputs": []
    },
    {
      "cell_type": "code",
      "source": [
        "#total amount spent by each customer\n",
        "m_val = df3.withColumn('TotalAmount',col(\"Quantity\") * col(\"UnitPrice\"))"
      ],
      "metadata": {
        "id": "MForpoq9Z_xE"
      },
      "execution_count": null,
      "outputs": []
    },
    {
      "cell_type": "code",
      "source": [
        "m_val = m_val.groupBy('CustomerID').agg(sum('TotalAmount').alias('monetary_value'))"
      ],
      "metadata": {
        "id": "2tjP5d6faLoC"
      },
      "execution_count": null,
      "outputs": []
    },
    {
      "cell_type": "code",
      "source": [
        "finaldf = m_val.join(df3,on='CustomerID',how='inner')"
      ],
      "metadata": {
        "id": "h1Bd2622aSG8"
      },
      "execution_count": null,
      "outputs": []
    },
    {
      "cell_type": "code",
      "source": [
        "finaldf = finaldf.select(['recency','frequency','monetary_value','CustomerID']).distinct()"
      ],
      "metadata": {
        "id": "CtmIFD_zaU77"
      },
      "execution_count": null,
      "outputs": []
    },
    {
      "cell_type": "markdown",
      "source": [
        "## Standardization"
      ],
      "metadata": {
        "id": "mfcIZjieaV6b"
      }
    },
    {
      "cell_type": "code",
      "source": [
        "from pyspark.ml.feature import VectorAssembler\n",
        "from pyspark.ml.feature import StandardScaler\n",
        "\n",
        "assemble=VectorAssembler(inputCols=[\n",
        "    'recency','frequency','monetary_value'\n",
        "], outputCol='features')\n",
        "\n",
        "assembled_data=assemble.transform(finaldf)\n",
        "\n",
        "scale=StandardScaler(inputCol='features',outputCol='standardized')\n",
        "data_scale=scale.fit(assembled_data)\n",
        "data_scale_output=data_scale.transform(assembled_data)"
      ],
      "metadata": {
        "id": "4Wk8WAGSaXej"
      },
      "execution_count": null,
      "outputs": []
    },
    {
      "cell_type": "code",
      "source": [
        "data_scale_output.select('standardized').show(2,truncate=False)"
      ],
      "metadata": {
        "colab": {
          "base_uri": "https://localhost:8080/"
        },
        "id": "fyvRtpPaaZ6T",
        "outputId": "bcbadf62-6aeb-4415-e70d-c18071cef653"
      },
      "execution_count": null,
      "outputs": [
        {
          "output_type": "stream",
          "name": "stdout",
          "text": [
            "+-------------------------------------------------------------+\n",
            "|standardized                                                 |\n",
            "+-------------------------------------------------------------+\n",
            "|[-0.4234668872396715,0.1385858749776728,0.09925473358128202] |\n",
            "|[-1.0867760420169081,0.11779799373102189,0.11509797044420902]|\n",
            "+-------------------------------------------------------------+\n",
            "only showing top 2 rows\n",
            "\n"
          ]
        }
      ]
    },
    {
      "cell_type": "markdown",
      "source": [
        "## Step 5: Building the Machine Learning Model"
      ],
      "metadata": {
        "id": "nlU1H1eDagQq"
      }
    },
    {
      "cell_type": "code",
      "source": [
        "#i) Finding the number of clusters to use\n",
        "from pyspark.ml.clustering import KMeans\n",
        "from pyspark.ml.evaluation import ClusteringEvaluator\n",
        "import numpy as np\n",
        "\n",
        "cost = np.zeros(10)\n",
        "\n",
        "evaluator = ClusteringEvaluator(predictionCol='prediction', featuresCol='standardized',metricName='silhouette', distanceMeasure='squaredEuclidean')\n",
        "\n",
        "for i in range(2,10):\n",
        "    KMeans_algo=KMeans(featuresCol='standardized', k=i)\n",
        "    KMeans_fit=KMeans_algo.fit(data_scale_output)\n",
        "    output=KMeans_fit.transform(data_scale_output)\n",
        "    cost[i] = KMeans_fit.summary.trainingCost"
      ],
      "metadata": {
        "id": "Km9bt8twab4b"
      },
      "execution_count": null,
      "outputs": []
    },
    {
      "cell_type": "code",
      "source": [
        "import pandas as pd\n",
        "import pylab as pl\n",
        "df_cost = pd.DataFrame(cost[2:])\n",
        "df_cost.columns = [\"cost\"]\n",
        "new_col = range(2,10)\n",
        "df_cost.insert(0, 'cluster', new_col)\n",
        "pl.plot(df_cost.cluster, df_cost.cost)\n",
        "pl.xlabel('Number of Clusters')\n",
        "pl.ylabel('Score')\n",
        "pl.title('Elbow Curve')\n",
        "pl.show()"
      ],
      "metadata": {
        "colab": {
          "base_uri": "https://localhost:8080/",
          "height": 472
        },
        "id": "jXVeXtsZan4S",
        "outputId": "182c51fa-e8d3-4a86-9f4b-78d4c9ead4ed"
      },
      "execution_count": null,
      "outputs": [
        {
          "output_type": "display_data",
          "data": {
            "text/plain": [
              "<Figure size 640x480 with 1 Axes>"
            ],
            "image/png": "[encoded data removed]"
          },
          "metadata": {}
        }
      ]
    },
    {
      "cell_type": "code",
      "source": [
        "#ii) Building the K-Means Clustering Model\n",
        "KMeans_algo=KMeans(featuresCol='standardized', k=4)\n",
        "KMeans_fit=KMeans_algo.fit(data_scale_output)"
      ],
      "metadata": {
        "id": "4tuU3oyyaq3s"
      },
      "execution_count": null,
      "outputs": []
    },
    {
      "cell_type": "code",
      "source": [
        "#iii) Making Predictions\n",
        "preds=KMeans_fit.transform(data_scale_output)\n",
        "preds.show(5,0)"
      ],
      "metadata": {
        "colab": {
          "base_uri": "https://localhost:8080/"
        },
        "id": "K4oW1Kp-as9a",
        "outputId": "46ad00ef-320d-48df-d55f-fae0246a24c0"
      },
      "execution_count": null,
      "outputs": [
        {
          "output_type": "stream",
          "name": "stdout",
          "text": [
            "+---------+---------+------------------+----------+-------------------------------------+-------------------------------------------------------------+----------+\n",
            "|recency  |frequency|monetary_value    |CustomerID|features                             |standardized                                                 |prediction|\n",
            "+---------+---------+------------------+----------+-------------------------------------+-------------------------------------------------------------+----------+\n",
            "|-17014140|11       |184.29000000000002|12493.0   |[-1.701414E7,11.0,184.29000000000002]|[-1.9483723024997794,0.03811111561886002,0.04125689022847001]|4         |\n",
            "|-19334460|11       |184.29000000000002|12493.0   |[-1.933446E7,11.0,184.29000000000002]|[-2.2140834827849005,0.03811111561886002,0.04125689022847001]|4         |\n",
            "|-27803160|28       |220.1             |18114.0   |[-2.780316E7,28.0,220.1]             |[-3.183875697858944,0.09701011248437097,0.049273653151479996]|2         |\n",
            "|-18477120|33       |124.14999999999999|13533.0   |[-1.847712E7,33.0,124.14999999999999]|[-2.115905290421069,0.11433334685658007,0.027793385001164204]|4         |\n",
            "|-27536700|11       |264.7             |13973.0   |[-2.75367E7,11.0,264.7]              |[-3.1533620613352,0.03811111561886002,0.05925822802906295]   |2         |\n",
            "+---------+---------+------------------+----------+-------------------------------------+-------------------------------------------------------------+----------+\n",
            "only showing top 5 rows\n",
            "\n"
          ]
        }
      ]
    },
    {
      "cell_type": "markdown",
      "source": [
        "## Step 6: Cluster Analysis"
      ],
      "metadata": {
        "id": "QsTuVGp_a0_q"
      }
    },
    {
      "cell_type": "code",
      "source": [
        "import matplotlib.pyplot as plt\n",
        "import seaborn as sns\n",
        "\n",
        "df_viz = preds.select('recency','frequency','monetary_value','prediction')\n",
        "df_viz = df_viz.toPandas()\n",
        "avg_df = df_viz.groupby(['prediction'], as_index=False).mean()\n",
        "\n",
        "list1 = ['recency','frequency','monetary_value']\n",
        "\n",
        "for i in list1:\n",
        "    sns.barplot(x='prediction',y=str(i),data=avg_df)\n",
        "    plt.show()"
      ],
      "metadata": {
        "colab": {
          "base_uri": "https://localhost:8080/",
          "height": 1000
        },
        "id": "dKvugGsuazux",
        "outputId": "279985af-391d-4287-9afe-0911cec0edc4"
      },
      "execution_count": null,
      "outputs": [
        {
          "output_type": "display_data",
          "data": {
            "text/plain": [
              "<Figure size 640x480 with 1 Axes>"
            ],
            "image/png": "[encoded data removed]"
          },
          "metadata": {}
        },
        {
          "output_type": "display_data",
          "data": {
            "text/plain": [
              "<Figure size 640x480 with 1 Axes>"
            ],
            "image/png": "[encoded data removed]"
          },
          "metadata": {}
        },
        {
          "output_type": "display_data",
          "data": {
            "text/plain": [
              "<Figure size 640x480 with 1 Axes>"
            ],
            "image/png": "[encoded data removed]"
          },
          "metadata": {}
        }
      ]
    },
    {
      "cell_type": "markdown",
      "source": [
        "Here is an overview of characteristics displayed by customers in each cluster:\n",
        "\n",
        "Cluster 0: Customers in this segment display low recency, frequency, and monetary value. They rarely shop on the platform and are low potential customers who are likely to stop doing business with the ecommerce company.\n",
        "\n",
        "Cluster 1: Users in this cluster display high recency but haven’t been seen spending much on the platform. They also don’t visit the site often. This indicates that they might be newer customers who have just started doing business with the company.\n",
        "\n",
        "Cluster 2: Customers in this segment display medium recency and frequency and spend a lot of money on the platform. This indicates that they tend to buy high-value items or make bulk purchases.\n",
        "\n",
        "Cluster 3: The final segment comprises users who display high recency and make frequent purchases on the platform. However, they don’t spend much on the platform, which might mean that they tend to select cheaper items in each purchase."
      ],
      "metadata": {
        "id": "IjqS-jgLDzbD"
      }
    },
    {
      "cell_type": "code",
      "source": [],
      "metadata": {
        "id": "0lDWSgs8D1oG"
      },
      "execution_count": null,
      "outputs": []
    }
  ]
}